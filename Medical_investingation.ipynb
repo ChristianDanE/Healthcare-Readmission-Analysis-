{
 "cells": [
  {
   "cell_type": "code",
   "execution_count": 151,
   "id": "32ea2a1c-55d1-4853-b1e3-68dadb1c3677",
   "metadata": {},
   "outputs": [],
   "source": [
    "import pandas as pd \n",
    "import numpy as np \n",
    "import seaborn as sns\n",
    "import matplotlib.pyplot as plt"
   ]
  },
  {
   "cell_type": "code",
   "execution_count": 153,
   "id": "2f335180-5b51-46fd-b1e7-1d8ca1066dca",
   "metadata": {},
   "outputs": [
    {
     "data": {
      "text/html": [
       "<div>\n",
       "<style scoped>\n",
       "    .dataframe tbody tr th:only-of-type {\n",
       "        vertical-align: middle;\n",
       "    }\n",
       "\n",
       "    .dataframe tbody tr th {\n",
       "        vertical-align: top;\n",
       "    }\n",
       "\n",
       "    .dataframe thead th {\n",
       "        text-align: right;\n",
       "    }\n",
       "</style>\n",
       "<table border=\"1\" class=\"dataframe\">\n",
       "  <thead>\n",
       "    <tr style=\"text-align: right;\">\n",
       "      <th></th>\n",
       "      <th>Name</th>\n",
       "      <th>Age</th>\n",
       "      <th>Gender</th>\n",
       "      <th>Blood Type</th>\n",
       "      <th>Medical Condition</th>\n",
       "      <th>Date of Admission</th>\n",
       "      <th>Doctor</th>\n",
       "      <th>Hospital</th>\n",
       "      <th>Insurance Provider</th>\n",
       "      <th>Billing Amount</th>\n",
       "      <th>Room Number</th>\n",
       "      <th>Admission Type</th>\n",
       "      <th>Discharge Date</th>\n",
       "      <th>Medication</th>\n",
       "      <th>Test Results</th>\n",
       "    </tr>\n",
       "  </thead>\n",
       "  <tbody>\n",
       "    <tr>\n",
       "      <th>0</th>\n",
       "      <td>Bobby JacksOn</td>\n",
       "      <td>30</td>\n",
       "      <td>Male</td>\n",
       "      <td>B-</td>\n",
       "      <td>Cancer</td>\n",
       "      <td>2024-01-31</td>\n",
       "      <td>Matthew Smith</td>\n",
       "      <td>Sons and Miller</td>\n",
       "      <td>Blue Cross</td>\n",
       "      <td>18856.281306</td>\n",
       "      <td>328</td>\n",
       "      <td>Urgent</td>\n",
       "      <td>2024-02-02</td>\n",
       "      <td>Paracetamol</td>\n",
       "      <td>Normal</td>\n",
       "    </tr>\n",
       "    <tr>\n",
       "      <th>1</th>\n",
       "      <td>LesLie TErRy</td>\n",
       "      <td>62</td>\n",
       "      <td>Male</td>\n",
       "      <td>A+</td>\n",
       "      <td>Obesity</td>\n",
       "      <td>2019-08-20</td>\n",
       "      <td>Samantha Davies</td>\n",
       "      <td>Kim Inc</td>\n",
       "      <td>Medicare</td>\n",
       "      <td>33643.327287</td>\n",
       "      <td>265</td>\n",
       "      <td>Emergency</td>\n",
       "      <td>2019-08-26</td>\n",
       "      <td>Ibuprofen</td>\n",
       "      <td>Inconclusive</td>\n",
       "    </tr>\n",
       "    <tr>\n",
       "      <th>2</th>\n",
       "      <td>DaNnY sMitH</td>\n",
       "      <td>76</td>\n",
       "      <td>Female</td>\n",
       "      <td>A-</td>\n",
       "      <td>Obesity</td>\n",
       "      <td>2022-09-22</td>\n",
       "      <td>Tiffany Mitchell</td>\n",
       "      <td>Cook PLC</td>\n",
       "      <td>Aetna</td>\n",
       "      <td>27955.096079</td>\n",
       "      <td>205</td>\n",
       "      <td>Emergency</td>\n",
       "      <td>2022-10-07</td>\n",
       "      <td>Aspirin</td>\n",
       "      <td>Normal</td>\n",
       "    </tr>\n",
       "    <tr>\n",
       "      <th>3</th>\n",
       "      <td>andrEw waTtS</td>\n",
       "      <td>28</td>\n",
       "      <td>Female</td>\n",
       "      <td>O+</td>\n",
       "      <td>Diabetes</td>\n",
       "      <td>2020-11-18</td>\n",
       "      <td>Kevin Wells</td>\n",
       "      <td>Hernandez Rogers and Vang,</td>\n",
       "      <td>Medicare</td>\n",
       "      <td>37909.782410</td>\n",
       "      <td>450</td>\n",
       "      <td>Elective</td>\n",
       "      <td>2020-12-18</td>\n",
       "      <td>Ibuprofen</td>\n",
       "      <td>Abnormal</td>\n",
       "    </tr>\n",
       "    <tr>\n",
       "      <th>4</th>\n",
       "      <td>adrIENNE bEll</td>\n",
       "      <td>43</td>\n",
       "      <td>Female</td>\n",
       "      <td>AB+</td>\n",
       "      <td>Cancer</td>\n",
       "      <td>2022-09-19</td>\n",
       "      <td>Kathleen Hanna</td>\n",
       "      <td>White-White</td>\n",
       "      <td>Aetna</td>\n",
       "      <td>14238.317814</td>\n",
       "      <td>458</td>\n",
       "      <td>Urgent</td>\n",
       "      <td>2022-10-09</td>\n",
       "      <td>Penicillin</td>\n",
       "      <td>Abnormal</td>\n",
       "    </tr>\n",
       "  </tbody>\n",
       "</table>\n",
       "</div>"
      ],
      "text/plain": [
       "            Name  Age  Gender Blood Type Medical Condition Date of Admission  \\\n",
       "0  Bobby JacksOn   30    Male         B-            Cancer        2024-01-31   \n",
       "1   LesLie TErRy   62    Male         A+           Obesity        2019-08-20   \n",
       "2    DaNnY sMitH   76  Female         A-           Obesity        2022-09-22   \n",
       "3   andrEw waTtS   28  Female         O+          Diabetes        2020-11-18   \n",
       "4  adrIENNE bEll   43  Female        AB+            Cancer        2022-09-19   \n",
       "\n",
       "             Doctor                    Hospital Insurance Provider  \\\n",
       "0     Matthew Smith             Sons and Miller         Blue Cross   \n",
       "1   Samantha Davies                     Kim Inc           Medicare   \n",
       "2  Tiffany Mitchell                    Cook PLC              Aetna   \n",
       "3       Kevin Wells  Hernandez Rogers and Vang,           Medicare   \n",
       "4    Kathleen Hanna                 White-White              Aetna   \n",
       "\n",
       "   Billing Amount  Room Number Admission Type Discharge Date   Medication  \\\n",
       "0    18856.281306          328         Urgent     2024-02-02  Paracetamol   \n",
       "1    33643.327287          265      Emergency     2019-08-26    Ibuprofen   \n",
       "2    27955.096079          205      Emergency     2022-10-07      Aspirin   \n",
       "3    37909.782410          450       Elective     2020-12-18    Ibuprofen   \n",
       "4    14238.317814          458         Urgent     2022-10-09   Penicillin   \n",
       "\n",
       "   Test Results  \n",
       "0        Normal  \n",
       "1  Inconclusive  \n",
       "2        Normal  \n",
       "3      Abnormal  \n",
       "4      Abnormal  "
      ]
     },
     "execution_count": 153,
     "metadata": {},
     "output_type": "execute_result"
    }
   ],
   "source": [
    "# loading and Getting a quick preview of the data before any operation by calling the head method\n",
    "data = pd.read_csv('healthcare_dataset.csv')\n",
    "data.head()"
   ]
  },
  {
   "cell_type": "code",
   "execution_count": 155,
   "id": "43298de2-d362-47ea-ae65-8d984e3acda7",
   "metadata": {},
   "outputs": [
    {
     "data": {
      "text/html": [
       "<div>\n",
       "<style scoped>\n",
       "    .dataframe tbody tr th:only-of-type {\n",
       "        vertical-align: middle;\n",
       "    }\n",
       "\n",
       "    .dataframe tbody tr th {\n",
       "        vertical-align: top;\n",
       "    }\n",
       "\n",
       "    .dataframe thead th {\n",
       "        text-align: right;\n",
       "    }\n",
       "</style>\n",
       "<table border=\"1\" class=\"dataframe\">\n",
       "  <thead>\n",
       "    <tr style=\"text-align: right;\">\n",
       "      <th></th>\n",
       "      <th>Age</th>\n",
       "      <th>Billing Amount</th>\n",
       "      <th>Room Number</th>\n",
       "    </tr>\n",
       "  </thead>\n",
       "  <tbody>\n",
       "    <tr>\n",
       "      <th>count</th>\n",
       "      <td>55500.000000</td>\n",
       "      <td>55500.000000</td>\n",
       "      <td>55500.000000</td>\n",
       "    </tr>\n",
       "    <tr>\n",
       "      <th>mean</th>\n",
       "      <td>51.539459</td>\n",
       "      <td>25539.316097</td>\n",
       "      <td>301.134829</td>\n",
       "    </tr>\n",
       "    <tr>\n",
       "      <th>std</th>\n",
       "      <td>19.602454</td>\n",
       "      <td>14211.454431</td>\n",
       "      <td>115.243069</td>\n",
       "    </tr>\n",
       "    <tr>\n",
       "      <th>min</th>\n",
       "      <td>13.000000</td>\n",
       "      <td>-2008.492140</td>\n",
       "      <td>101.000000</td>\n",
       "    </tr>\n",
       "    <tr>\n",
       "      <th>25%</th>\n",
       "      <td>35.000000</td>\n",
       "      <td>13241.224652</td>\n",
       "      <td>202.000000</td>\n",
       "    </tr>\n",
       "    <tr>\n",
       "      <th>50%</th>\n",
       "      <td>52.000000</td>\n",
       "      <td>25538.069376</td>\n",
       "      <td>302.000000</td>\n",
       "    </tr>\n",
       "    <tr>\n",
       "      <th>75%</th>\n",
       "      <td>68.000000</td>\n",
       "      <td>37820.508436</td>\n",
       "      <td>401.000000</td>\n",
       "    </tr>\n",
       "    <tr>\n",
       "      <th>max</th>\n",
       "      <td>89.000000</td>\n",
       "      <td>52764.276736</td>\n",
       "      <td>500.000000</td>\n",
       "    </tr>\n",
       "  </tbody>\n",
       "</table>\n",
       "</div>"
      ],
      "text/plain": [
       "                Age  Billing Amount   Room Number\n",
       "count  55500.000000    55500.000000  55500.000000\n",
       "mean      51.539459    25539.316097    301.134829\n",
       "std       19.602454    14211.454431    115.243069\n",
       "min       13.000000    -2008.492140    101.000000\n",
       "25%       35.000000    13241.224652    202.000000\n",
       "50%       52.000000    25538.069376    302.000000\n",
       "75%       68.000000    37820.508436    401.000000\n",
       "max       89.000000    52764.276736    500.000000"
      ]
     },
     "execution_count": 155,
     "metadata": {},
     "output_type": "execute_result"
    }
   ],
   "source": [
    "# summary statistics for all numeric values\n",
    "data.describe()"
   ]
  },
  {
   "cell_type": "code",
   "execution_count": 157,
   "id": "e40f32e4-c6c1-4d65-854f-d1fce58ef0d7",
   "metadata": {},
   "outputs": [
    {
     "name": "stdout",
     "output_type": "stream",
     "text": [
      "Hospital\n",
      "LLC Smith                      44\n",
      "Ltd Smith                      39\n",
      "Johnson PLC                    38\n",
      "Smith Ltd                      37\n",
      "Smith PLC                      36\n",
      "                               ..\n",
      "and Montoya Flores, Boyer       1\n",
      "Carter and Dunn King,           1\n",
      "Hall, Brown Black and           1\n",
      "Peterson Scott and Thomas,      1\n",
      "Moreno Murphy, Griffith and     1\n",
      "Name: count, Length: 39876, dtype: int64\n"
     ]
    }
   ],
   "source": [
    "# counting the number of hospitals\n",
    "hospital_counts = data[\"Hospital\"].value_counts(sort=True)\n",
    "print(hospital_counts)"
   ]
  },
  {
   "cell_type": "code",
   "execution_count": 159,
   "id": "efef0453-8fe6-46fb-85fc-37dbcb896e4f",
   "metadata": {},
   "outputs": [
    {
     "data": {
      "text/plain": [
       "1.3918146253385495"
      ]
     },
     "execution_count": 159,
     "metadata": {},
     "output_type": "execute_result"
    }
   ],
   "source": [
    "hospital_counts.mean()"
   ]
  },
  {
   "cell_type": "code",
   "execution_count": 161,
   "id": "0850a578-3d13-4fca-ab55-ef5815be5e1e",
   "metadata": {},
   "outputs": [
    {
     "data": {
      "text/plain": [
       "44"
      ]
     },
     "execution_count": 161,
     "metadata": {},
     "output_type": "execute_result"
    }
   ],
   "source": [
    "hospital_counts.max()"
   ]
  },
  {
   "cell_type": "code",
   "execution_count": 163,
   "id": "8223b8f4-be7d-45b0-865e-a3de3df3e681",
   "metadata": {},
   "outputs": [
    {
     "data": {
      "text/plain": [
       "1"
      ]
     },
     "execution_count": 163,
     "metadata": {},
     "output_type": "execute_result"
    }
   ],
   "source": [
    "hospital_counts.min()"
   ]
  },
  {
   "cell_type": "code",
   "execution_count": 165,
   "id": "cf06fa62-4d25-4222-809d-63e29330cd24",
   "metadata": {},
   "outputs": [],
   "source": [
    "#because there was many hospital that were only listed once it was necessary to condiser only hospitals with at least 3 entries\n",
    "#teh hospital with 3 or more entries were all in the 95th percentil\n",
    "#function to get the 95th percentil\n",
    "\n",
    "def pct95(column):\n",
    "    return column.quantile(0.95)"
   ]
  },
  {
   "cell_type": "code",
   "execution_count": 167,
   "id": "dba74c27-ce09-41b7-93ba-88f75ca74676",
   "metadata": {},
   "outputs": [
    {
     "name": "stdout",
     "output_type": "stream",
     "text": [
      "Minimum count threshold (95th percentile): 3.0\n"
     ]
    }
   ],
   "source": [
    "#threshold to get only the top hospitals\n",
    "\n",
    "threshold = hospital_counts.agg(pct95)\n",
    "print(f\"Minimum count threshold (95th percentile): {threshold}\")"
   ]
  },
  {
   "cell_type": "code",
   "execution_count": 169,
   "id": "01c1a5ba-76dd-4163-9dc4-3c5b91521c6f",
   "metadata": {},
   "outputs": [],
   "source": [
    "#getting the hospital at the threshold and above\n",
    "hospitals_to_keep = hospital_counts[hospital_counts >= threshold].index"
   ]
  },
  {
   "cell_type": "code",
   "execution_count": 171,
   "id": "12b1df06-3700-4ef1-8221-a899537fe8d3",
   "metadata": {},
   "outputs": [],
   "source": [
    "#filtering to get the relevant data\n",
    "filtered_data = data[data[\"Hospital\"].isin(hospitals_to_keep)]"
   ]
  },
  {
   "cell_type": "code",
   "execution_count": 173,
   "id": "9d3a15d0-a657-4aae-a6e8-316412c1c9e5",
   "metadata": {},
   "outputs": [
    {
     "data": {
      "text/plain": [
       "Name                  0\n",
       "Age                   0\n",
       "Gender                0\n",
       "Blood Type            0\n",
       "Medical Condition     0\n",
       "Date of Admission     0\n",
       "Doctor                0\n",
       "Hospital              0\n",
       "Insurance Provider    0\n",
       "Billing Amount        0\n",
       "Room Number           0\n",
       "Admission Type        0\n",
       "Discharge Date        0\n",
       "Medication            0\n",
       "Test Results          0\n",
       "dtype: int64"
      ]
     },
     "execution_count": 173,
     "metadata": {},
     "output_type": "execute_result"
    }
   ],
   "source": [
    "#check for missing values in each columns\n",
    "data.isna().sum()"
   ]
  },
  {
   "cell_type": "code",
   "execution_count": 175,
   "id": "e801322b-1063-4dbc-bde9-624d134cac5b",
   "metadata": {},
   "outputs": [],
   "source": [
    "#function to calculate the lenght of stay for each patient\n",
    "def calculate_length_of_stay(data, admission_col = \"Date of Admission\", discharge_col=\"Discharge Date\"):\n",
    "    \n",
    "    # converting admission and discharge columns into datetime format\n",
    "    data[admission_col] = pd.to_datetime(data[admission_col])\n",
    "    data[discharge_col] = pd.to_datetime(data[discharge_col])\n",
    "\n",
    "    # calculating the length of stay as a difference between admission and discharge\n",
    "    data[\"length_of_stay\"] = (data[discharge_col] - data[admission_col]).dt.days\n",
    "    return data\n"
   ]
  },
  {
   "cell_type": "code",
   "execution_count": 177,
   "id": "43cc4f2b-799d-448d-be09-ec4f00c08baa",
   "metadata": {},
   "outputs": [
    {
     "name": "stdout",
     "output_type": "stream",
     "text": [
      "Index(['Name', 'Age', 'Gender', 'Blood Type', 'Medical Condition',\n",
      "       'Date of Admission', 'Doctor', 'Hospital', 'Insurance Provider',\n",
      "       'Billing Amount', 'Room Number', 'Admission Type', 'Discharge Date',\n",
      "       'Medication', 'Test Results'],\n",
      "      dtype='object')\n"
     ]
    }
   ],
   "source": [
    "print(data.columns)"
   ]
  },
  {
   "cell_type": "code",
   "execution_count": 179,
   "id": "413ac6fc-35bd-496b-8b8c-a3bc8fd10389",
   "metadata": {},
   "outputs": [],
   "source": [
    "# function that calculate avarage length of stay by medical condition\n",
    "def average_length_of_stay_by_condition(data, condition_col=\"Medical Condition\", stay_col=\"length_of_stay\"):\n",
    "    # group by specific medical condition and calculate  the mean length of stay \n",
    "    average_stay = data.groupby(condition_col)[stay_col].mean().reset_index()\n",
    "    average_stay.columns = [condition_col, \"Average Length of Stay\"]\n",
    "    return average_stay\n",
    "                                      \n",
    "                                        "
   ]
  },
  {
   "cell_type": "code",
   "execution_count": null,
   "id": "4c28bc10-1063-45dc-82ea-b933a1b63a06",
   "metadata": {},
   "outputs": [],
   "source": []
  },
  {
   "cell_type": "code",
   "execution_count": 184,
   "id": "76fa0b29-9444-4217-960f-8717ed910fa0",
   "metadata": {},
   "outputs": [],
   "source": [
    "data = pd.read_csv('healthcare_dataset.csv')\n",
    "data = calculate_length_of_stay(data)"
   ]
  },
  {
   "cell_type": "code",
   "execution_count": 230,
   "id": "8c62ec4d-1be3-4f03-9047-d2126f97999e",
   "metadata": {},
   "outputs": [],
   "source": [
    "def calculate_readmission_rate(data, admission_col=\"Date of Admission\", patient_id_cols=[\"Name\",\"Age\",\"Gender\"], threshold_days=30):\n",
    "    # sort the data by patient identifier and admission data for accurate time difference calculation\n",
    "    data = data.sort_values(patient_id_cols + [admission_col])\n",
    "\n",
    "    #calculate the diffrence in days since the last admission for each patient\n",
    "    data[\"days_since_last_discharge\"] = data.groupby(patient_id_cols)admission_col].diff().dt.days \n",
    "\n",
    "    #flaging entries as readmission if they accur within the specified threshol\n",
    "    data[\"is_readmission\"] = (data[\"days_since_last_discharge\"] <= threshold_days) & (data[\"days_since_last_discharge\"].notna())\n",
    "\n",
    "    \n",
    "    #calculate the readmission rate as the percentage of readmission out of total admission \n",
    "    total_admission = len(data)\n",
    "    total_readmission = data[\"is_readmission\"].sum()\n",
    "    readmission_rate = (total_readmission/ total_admission) * 100\n",
    "    return readmission_rate"
   ]
  },
  {
   "cell_type": "code",
   "execution_count": 232,
   "id": "e375cc4d-e9bb-4a1e-b9de-6e12005a4cb0",
   "metadata": {},
   "outputs": [
    {
     "name": "stdout",
     "output_type": "stream",
     "text": [
      "Index(['Name', 'Age', 'Gender', 'Blood Type', 'Medical Condition',\n",
      "       'Date of Admission', 'Doctor', 'Hospital', 'Insurance Provider',\n",
      "       'Billing Amount', 'Room Number', 'Admission Type', 'Discharge Date',\n",
      "       'Medication', 'Test Results', 'length_of_stay'],\n",
      "      dtype='object')\n"
     ]
    }
   ],
   "source": [
    "print(data.columns)"
   ]
  },
  {
   "cell_type": "code",
   "execution_count": 234,
   "id": "722ad009-2bb2-4cc1-8600-940c2021aab6",
   "metadata": {},
   "outputs": [
    {
     "name": "stdout",
     "output_type": "stream",
     "text": [
      "Average Length of Stay by Condition:\n",
      "   Medical Condition  Average Length of Stay\n",
      "0         Arthritis               15.517404\n",
      "1            Asthma               15.696570\n",
      "2            Cancer               15.495827\n",
      "3          Diabetes               15.422936\n",
      "4      Hypertension               15.458626\n",
      "5           Obesity               15.464305\n"
     ]
    }
   ],
   "source": [
    "average_length_of_stay = average_length_of_stay_by_condition(data)\n",
    "print(\"Average Length of Stay by Condition:\\n\", average_length_of_stay)"
   ]
  },
  {
   "cell_type": "code",
   "execution_count": 236,
   "id": "7bee70a5-df07-4419-a4f5-2ca5c89709ea",
   "metadata": {},
   "outputs": [
    {
     "name": "stdout",
     "output_type": "stream",
     "text": [
      "Readmission Rate (30 days): 0.96%\n"
     ]
    }
   ],
   "source": [
    "readmission_rate_30_days = calculate_readmission_rate(data, threshold_days = 30)\n",
    "print(f\"Readmission Rate (30 days): {readmission_rate_30_days:.2f}%\")"
   ]
  },
  {
   "cell_type": "code",
   "execution_count": 238,
   "id": "ac537f19-662f-4be7-8ae0-261adc9ea51c",
   "metadata": {},
   "outputs": [
    {
     "data": {
      "image/png": "[encoded data removed]",
      "text/plain": [
       "<Figure size 640x480 with 1 Axes>"
      ]
     },
     "metadata": {},
     "output_type": "display_data"
    }
   ],
   "source": [
    "average_length_of_stay.plot(kind='bar', x='Medical Condition', y='Average Length of Stay', title='Average Length of Stay by Medical Condition')\n",
    "plt.xlabel('Medical Condition')\n",
    "plt.ylabel('Average Length of Stay (days)')\n",
    "plt.show() "
   ]
  },
  {
   "cell_type": "code",
   "execution_count": 246,
   "id": "fb66a2ed-d727-4140-85e6-468c8bf9acb4",
   "metadata": {},
   "outputs": [],
   "source": [
    "data[\"days_since_last_discharge\"] = data.groupby(['Name', 'Age', 'Gender'])['Date of Admission'].diff().dt.days\n",
    "data[\"is_readmission\"] = (data[\"days_since_last_discharge\"] <= 30) & (data[\"days_since_last_discharge\"].notna())"
   ]
  },
  {
   "cell_type": "code",
   "execution_count": 248,
   "id": "e55759c9-191c-424e-97a5-5343b87251c5",
   "metadata": {},
   "outputs": [],
   "source": [
    "readmission_rate_by_gender_condition = data.groupby([\"Gender\",\"Medical Condition\"])[\"is_readmission\"].mean().reset_index()"
   ]
  },
  {
   "cell_type": "code",
   "execution_count": 250,
   "id": "31a0b4d1-e9a6-4169-96e8-0b1043a19036",
   "metadata": {},
   "outputs": [
    {
     "name": "stdout",
     "output_type": "stream",
     "text": [
      "    Gender Medical Condition  is_readmission  readmission_rate\n",
      "0   Female         Arthritis        0.009390          0.938967\n",
      "1   Female            Asthma        0.009225          0.922469\n",
      "2   Female            Cancer        0.007823          0.782269\n",
      "3   Female          Diabetes        0.009030          0.903032\n",
      "4   Female      Hypertension        0.009324          0.932350\n",
      "5   Female           Obesity        0.010601          1.060147\n",
      "6     Male         Arthritis        0.009952          0.995240\n",
      "7     Male            Asthma        0.010363          1.036269\n",
      "8     Male            Cancer        0.011027          1.102703\n",
      "9     Male          Diabetes        0.009886          0.988609\n",
      "10    Male      Hypertension        0.011008          1.100799\n",
      "11    Male           Obesity        0.007811          0.781080\n"
     ]
    }
   ],
   "source": [
    "#converting the readmission rate to percentages\n",
    "readmission_rate_by_gender_condition[\"readmission_rate\"] = readmission_rate_by_gender_condition[\"is_readmission\"]*100\n",
    "\n",
    "#view result\n",
    "print(readmission_rate_by_gender_condition)"
   ]
  },
  {
   "cell_type": "code",
   "execution_count": 252,
   "id": "e02a2a5d-2465-4efc-94ba-1b454525603c",
   "metadata": {},
   "outputs": [
    {
     "data": {
      "image/png": "[encoded data removed]",
      "text/plain": [
       "<Figure size 1200x600 with 1 Axes>"
      ]
     },
     "metadata": {},
     "output_type": "display_data"
    }
   ],
   "source": [
    "plt.figure(figsize=(12, 6))\n",
    "sns.barplot(\n",
    "    data=readmission_rate_by_gender_condition, \n",
    "    x='Medical Condition', \n",
    "    y='readmission_rate', \n",
    "    hue='Gender'\n",
    ")\n",
    "\n",
    "# Add labels and title\n",
    "plt.title('Readmission Rate by Gender and Medical Condition', fontsize=14)\n",
    "plt.xlabel('Medical Condition', fontsize=12)\n",
    "plt.ylabel('Readmission Rate (%)', fontsize=12)\n",
    "plt.xticks(rotation=45)  # Rotate x-axis labels for better readability\n",
    "plt.legend(title='Gender')\n",
    "plt.tight_layout()\n",
    "plt.show()"
   ]
  },
  {
   "cell_type": "code",
   "execution_count": null,
   "id": "e386a1ee-4df8-492c-be2b-9dd400dc2048",
   "metadata": {},
   "outputs": [],
   "source": []
  }
 ],
 "metadata": {
  "kernelspec": {
   "display_name": "Python 3 (ipykernel)",
   "language": "python",
   "name": "python3"
  },
  "language_info": {
   "codemirror_mode": {
    "name": "ipython",
    "version": 3
   },
   "file_extension": ".py",
   "mimetype": "text/x-python",
   "name": "python",
   "nbconvert_exporter": "python",
   "pygments_lexer": "ipython3",
   "version": "3.11.7"
  }
 },
 "nbformat": 4,
 "nbformat_minor": 5
}
